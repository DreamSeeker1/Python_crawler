{
 "cells": [
  {
   "cell_type": "markdown",
   "metadata": {},
   "source": [
    "## Python爬虫练习"
   ]
  },
  {
   "cell_type": "markdown",
   "metadata": {},
   "source": [
    "### 练习1\n",
    "    \n",
    "    编写程序，完成以下要求：\n",
    "        将当前文件下e.txt文件以GBK编码读取，并转为json格式，取出name、age的值。"
   ]
  },
  {
   "cell_type": "code",
   "execution_count": null,
   "metadata": {},
   "outputs": [],
   "source": []
  },
  {
   "cell_type": "code",
   "execution_count": null,
   "metadata": {},
   "outputs": [],
   "source": []
  },
  {
   "cell_type": "code",
   "execution_count": 78,
   "metadata": {},
   "outputs": [
    {
     "name": "stdout",
     "output_type": "stream",
     "text": [
      "小刘\n",
      "12\n",
      "隔壁王叔\n",
      "42\n",
      "凤姐\n",
      "28\n",
      "良辰\n",
      "26\n",
      "蜡笔小新\n",
      "5\n",
      "樱桃小丸子\n",
      "5\n"
     ]
    }
   ],
   "source": [
    "import json\n",
    "with open('e.txt','r+',encoding='gbk') as f:\n",
    "    aaa = f.read()\n",
    "\n",
    "bbb = json.loads(aaa)\n",
    "\n",
    "for i in bbb['data']['data']:\n",
    "    print(i['name'])\n",
    "    print(i['age'])"
   ]
  },
  {
   "cell_type": "code",
   "execution_count": 30,
   "metadata": {},
   "outputs": [
    {
     "name": "stdout",
     "output_type": "stream",
     "text": [
      "b'\\xd7\\xe6\\xf6\\xce\\xc6\\xe6'\n"
     ]
    }
   ],
   "source": [
    "a = '祖鑫奇'\n",
    "b = a.encode('gbk')\n",
    "print(b)"
   ]
  },
  {
   "cell_type": "markdown",
   "metadata": {},
   "source": [
    "### 练习2\n",
    "    \n",
    "    编写程序，完成以下要求：\n",
    "        爬取内涵段子，每个段子及网址链接"
   ]
  },
  {
   "cell_type": "code",
   "execution_count": null,
   "metadata": {},
   "outputs": [],
   "source": []
  },
  {
   "cell_type": "code",
   "execution_count": null,
   "metadata": {},
   "outputs": [],
   "source": []
  },
  {
   "cell_type": "markdown",
   "metadata": {},
   "source": [
    "### 练习3\n",
    "    编写程序，完成以下要求：\n",
    "        爬取36k，爬取每个文章的title和网址"
   ]
  },
  {
   "cell_type": "code",
   "execution_count": null,
   "metadata": {},
   "outputs": [],
   "source": []
  },
  {
   "cell_type": "code",
   "execution_count": null,
   "metadata": {},
   "outputs": [],
   "source": []
  },
  {
   "cell_type": "markdown",
   "metadata": {},
   "source": [
    "### 练习4\n",
    "    \n",
    "    编写程序，完成以下要求：\n",
    "        用XPath来做一个简单的爬虫，爬取某个贴吧里的所有帖子，获取每个帖子的标题，连接和帖子中图片"
   ]
  },
  {
   "cell_type": "code",
   "execution_count": null,
   "metadata": {},
   "outputs": [],
   "source": []
  },
  {
   "cell_type": "code",
   "execution_count": null,
   "metadata": {},
   "outputs": [],
   "source": []
  },
  {
   "cell_type": "markdown",
   "metadata": {},
   "source": [
    "# 项目1 金山词霸网站数据爬取，制作音标字典\n",
    "\n",
    "    * 由于后面项目对于数据资源的需求，我们需要提供一些机器学习数据，因此我们将依靠web端爬虫建造一个单词对应音标的字典。我们以金山词霸为目标网站，利用requests模块和一些基本的数据处理进行数据的采集和整理\n",
    "    \n",
    "    * 基本流程\n",
    "        * 了解需求\n",
    "        * 分析过程\n",
    "        * 数据爬取\n",
    "        * 导出数据\n",
    "        * 整理数据\n",
    "    \n",
    "    * 教学流程\n",
    "        * 学生按照需求自己构造思路\n",
    "        * 老师简单分析页面流程\n",
    "        * 学生实现功能\n",
    "        \n"
   ]
  },
  {
   "cell_type": "code",
   "execution_count": null,
   "metadata": {},
   "outputs": [],
   "source": []
  },
  {
   "cell_type": "code",
   "execution_count": null,
   "metadata": {},
   "outputs": [],
   "source": []
  }
 ],
 "metadata": {
  "kernelspec": {
   "display_name": "Python 3",
   "language": "python",
   "name": "python3"
  },
  "language_info": {
   "codemirror_mode": {
    "name": "ipython",
    "version": 3
   },
   "file_extension": ".py",
   "mimetype": "text/x-python",
   "name": "python",
   "nbconvert_exporter": "python",
   "pygments_lexer": "ipython3",
   "version": "3.6.4"
  }
 },
 "nbformat": 4,
 "nbformat_minor": 2
}
