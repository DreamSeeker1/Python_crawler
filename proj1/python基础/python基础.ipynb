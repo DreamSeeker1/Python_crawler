{
 "cells": [
  {
   "cell_type": "markdown",
   "metadata": {},
   "source": [
    "# 简介\n",
    "---\n",
    "本教程将会对Python的基本使用方法进行介绍。参考网站见文档末尾。"
   ]
  },
  {
   "cell_type": "markdown",
   "metadata": {},
   "source": [
    "## 基本语法\n",
    "---\n",
    "### python中的注释\n",
    "```Python\n",
    "# 这是一个注释\n",
    "'''\n",
    "这是多行注释，用三个单引号\n",
    "这是多行注释，用三个单引号 \n",
    "这是多行注释，用三个单引号\n",
    "'''\n",
    "print(\"Hello, World!\") \n",
    "```"
   ]
  },
  {
   "cell_type": "code",
   "execution_count": null,
   "metadata": {
    "collapsed": true
   },
   "outputs": [],
   "source": [
    "print(\"Hello, World!\")\n",
    "a = input()"
   ]
  },
  {
   "cell_type": "markdown",
   "metadata": {},
   "source": [
    "### 代码缩进\n",
    "Python程序不使用括号来表明代码块，而是使用缩进，一般通过缩进4个空格(Tab)来表示一个代码块。"
   ]
  },
  {
   "cell_type": "code",
   "execution_count": null,
   "metadata": {
    "collapsed": true,
    "scrolled": true
   },
   "outputs": [],
   "source": [
    "if True:\n",
    "    print('True')\n",
    "else:\n",
    "    print('False')"
   ]
  },
  {
   "cell_type": "markdown",
   "metadata": {},
   "source": [
    "###  引号\n",
    "Python中支持单引号(')，双引号(\")以及三引号(\"\"\" 或者 ''')，来表示字符或字符串，三重引号可以用于多行字符串。"
   ]
  },
  {
   "cell_type": "code",
   "execution_count": null,
   "metadata": {
    "collapsed": true
   },
   "outputs": [],
   "source": [
    "a = 'One'\n",
    "b = \"Two\"\n",
    "c = '''Three\n",
    "four'''"
   ]
  },
  {
   "cell_type": "code",
   "execution_count": null,
   "metadata": {
    "collapsed": true,
    "scrolled": true
   },
   "outputs": [],
   "source": [
    "print(a)\n",
    "print(b)\n",
    "print(c)"
   ]
  },
  {
   "cell_type": "markdown",
   "metadata": {},
   "source": [
    "### 为变量赋值\n",
    "Python 不需要为变量进行显式声明来预留内存，当对变量进行赋值的时候会自动进行，等号（=）被用来给变量进行赋值。"
   ]
  },
  {
   "cell_type": "code",
   "execution_count": null,
   "metadata": {
    "collapsed": true
   },
   "outputs": [],
   "source": [
    "counter = 100          # An integer assignment\n",
    "miles   = 1000.0       # A floating point\n",
    "name    = \"John\"       # A string\n",
    "a,b,c = 1,2,\"john\"\n",
    "\n",
    "# 数值交换,python支持这样的便利写法\n",
    "a,b = b,a\n",
    "\n",
    "print(counter)\n",
    "print(miles)\n",
    "print(name)\n",
    "print(a, b, c)"
   ]
  },
  {
   "cell_type": "markdown",
   "metadata": {},
   "source": [
    "### 标准数据类型\n",
    "Python 有6种标准数据类型:\n",
    "* 数字\n",
    "* 布尔(Boolean )\n",
    "* 字符串(string)\n",
    "* 列表(list)\n",
    "* 元组(tuple)\n",
    "* 字典(dictionary)\n",
    "\n",
    "#### 数字\n",
    "Python 支持4种数字类型：\n",
    "* int(整形)\n",
    "* long(长整形)\n",
    "* float(浮点型)\n",
    "* complex(复数)"
   ]
  },
  {
   "cell_type": "code",
   "execution_count": null,
   "metadata": {
    "collapsed": true
   },
   "outputs": [],
   "source": [
    "a = 10\n",
    "b = 51924361 \n",
    "c = 0.0\n",
    "d = 3.14j #复数类型， x+yj，x，y分别对应实部虚部\n",
    "boolean = True\n",
    "string = 'hello'\n",
    "list_ = [1,2,3,4]\n",
    "type_ = (1,2,3,4)\n",
    "dictionary_ = {'a':1, 'b':2}"
   ]
  },
  {
   "cell_type": "markdown",
   "metadata": {},
   "source": [
    "### Python数据类型转换\n",
    "有时候，我们需要对数据内置的类型进行转换，数据类型的转换，你只需要将数据类型作为函数名即可。"
   ]
  },
  {
   "cell_type": "code",
   "execution_count": null,
   "metadata": {
    "collapsed": true
   },
   "outputs": [],
   "source": [
    "a = '100' # 此时a的类型是一个字符串，里面存放了100这3个字符\n",
    "b = int(a) # 此时b的类型是整型，里面存放的是数字100\n",
    "c = list(a) # 此时c的类型是列表，里面存放的是'1','0','0'\n",
    "print(type(a),a)\n",
    "print(type(b),b)\n",
    "print(type(c),c)"
   ]
  },
  {
   "cell_type": "markdown",
   "metadata": {},
   "source": [
    "###  输入与输出\n",
    "Python的输入输出有多种方式，这里我们首先讲一下键盘输入与print输出。\n",
    "\n",
    "执行下面的程序在按回车键后就会等待用户输入：\n",
    "```Python\n",
    "input(\"\\n\\n按下 enter 键后退出。\")\n",
    "```\n",
    "\n",
    "print 默认输出是换行的，如果要实现不换行需要在变量末尾加上 end=\"\"：\n",
    "```Python\n",
    "x=\"a\"\n",
    "y=\"b\"\n",
    "# 换行输出\n",
    "print( x )\n",
    "print( y )\n",
    "\n",
    "print('---------')\n",
    "# 不换行输出\n",
    "print( x, end=\" \" )\n",
    "print( y, end=\" \" )\n",
    "print()\n",
    "```\n",
    "\n",
    "Python 支持格式化字符串的输出 。尽管这样可能会用到非常复杂的表达式，但最基本的用法是将一个值插入到一个有字符串格式符 %s 的字符串中。\n",
    "```python\n",
    "print (\"我叫 %s 今年 %d 岁!\" % ('小明', 10))\n",
    "```"
   ]
  },
  {
   "cell_type": "code",
   "execution_count": null,
   "metadata": {
    "collapsed": true
   },
   "outputs": [],
   "source": [
    "x = input(\"请输入x值: \")\n",
    "y = input(\"请输入y值: \")"
   ]
  },
  {
   "cell_type": "code",
   "execution_count": null,
   "metadata": {
    "collapsed": true
   },
   "outputs": [],
   "source": [
    "print( x )\n",
    "print( y )\n",
    "print( x, end=\" \" )\n",
    "print( y, end=\" \" )\n",
    "print()\n",
    "print (\"我叫 %s 今年 %d 岁!\" % ('小明', 10))"
   ]
  },
  {
   "cell_type": "markdown",
   "metadata": {},
   "source": [
    "### 标识符\n",
    "开发人员在程序中自定义的一些符号和名称。标示符是自己定义的,如变量名 、函数名等。\n",
    "* 标识符可以由字母、数字和下划线组成。\n",
    "* 第一个字符必须是字母表中字母或下划线'_'，而不能是数字\n",
    "* 标识符对大小写敏感。\n",
    "* 不能用系统保留字字命名\n",
    "\n",
    "### 保留字\n",
    "保留字即关键字，我们不能把它们用作任何标识符名称。Python 的标准库提供了一个 keyword 模块，可以输出当前版本的所有关键字"
   ]
  },
  {
   "cell_type": "code",
   "execution_count": null,
   "metadata": {
    "collapsed": true
   },
   "outputs": [],
   "source": [
    "import keyword\n",
    "list_ = keyword.kwlist\n",
    "print(list_)"
   ]
  },
  {
   "cell_type": "markdown",
   "metadata": {},
   "source": [
    "### python运算符\n",
    "运算符用于执行程序代码运算，会针对一个以上操作数项目来进行运算。\n",
    "\n",
    "python支持绝大部分的运算符，我们简单的了解下算术运算符、比较运算符、赋值运算符。"
   ]
  },
  {
   "cell_type": "code",
   "execution_count": null,
   "metadata": {
    "collapsed": true
   },
   "outputs": [],
   "source": [
    "a = 21\n",
    "b = 10\n",
    "c = 0\n",
    " \n",
    "c = a + b\n",
    "print (\"a + b 的值为：\", c)\n",
    " \n",
    "c = a - b\n",
    "print (\"a - b 的值为：\", c)\n",
    " \n",
    "c = a * b\n",
    "print (\"a * b 的值为：\", c)\n",
    "\n",
    "boolean = a == b\n",
    "print(boolean)\n",
    "\n",
    "boolean = a > b\n",
    "print(boolean)\n",
    "\n",
    "b += a\n",
    "print (\"b += a 的值为：\", b)\n",
    " \n",
    "b *= a\n",
    "print (\"b *= a 的值为：\", b)"
   ]
  },
  {
   "cell_type": "markdown",
   "metadata": {},
   "source": [
    "## 判断循环语句\n",
    "---\n",
    "### if\n",
    "Python条件语句是通过一条或多条语句的执行结果（True或者False）来决定执行的代码块。\n",
    "```python\n",
    "    if xxx1:\n",
    "        事情1\n",
    "    elif xxx2:\n",
    "        事情2\n",
    "    elif xxx3:\n",
    "        事情3\n",
    "    else:\n",
    "        事情4\n",
    "```\n",
    "if、if else、if elif都可以单独使用"
   ]
  },
  {
   "cell_type": "code",
   "execution_count": null,
   "metadata": {
    "collapsed": true
   },
   "outputs": [],
   "source": [
    "age = int(input(\"请输入你家狗狗的年龄: \"))\n",
    "print(\"\")\n",
    "if age < 0:\n",
    "    print(\"你是在逗我吧!\")\n",
    "elif age == 1:\n",
    "    print(\"相当于 14 岁的人。\")\n",
    "elif age == 2:\n",
    "    print(\"相当于 22 岁的人。\")\n",
    "elif age > 2 and age < 21:\n",
    "    human = 22 + (age -2)*5\n",
    "    print(\"对应人类年龄: \", human)\n",
    "else:\n",
    "    print(\"建国之后不许成精！\")"
   ]
  },
  {
   "cell_type": "markdown",
   "metadata": {},
   "source": [
    "### while\n",
    "Python 编程中 while 语句用于循环执行程序，即在某条件下，循环执行某段程序，以处理需要重复处理的相同任务。\n",
    "```python\n",
    "    while 条件:\n",
    "        条件满足时，做的事情1\n",
    "        条件满足时，做的事情2\n",
    "        条件满足时，做的事情3\n",
    "        ...(省略)...\n",
    "```\n",
    "\n",
    "有时候也会出现 while esle 的写法，else为while语句不再满足条件时执行。\n",
    "```python\n",
    "    while 条件:\n",
    "        条件满足时，做的事情1\n",
    "        条件满足时，做的事情2\n",
    "        条件满足时，做的事情3\n",
    "        ...(省略)...\n",
    "    else:\n",
    "```"
   ]
  },
  {
   "cell_type": "code",
   "execution_count": null,
   "metadata": {
    "collapsed": true
   },
   "outputs": [],
   "source": [
    "i = 0\n",
    "while i<5:\n",
    "    print(\"当前是第%d次执行循环\"%(i+1))\n",
    "    print(\"i=%d\"%i)\n",
    "    i+=1\n",
    "else:\n",
    "    print('执行完了')"
   ]
  },
  {
   "cell_type": "code",
   "execution_count": null,
   "metadata": {
    "collapsed": true
   },
   "outputs": [],
   "source": [
    "# 9*9乘法表 \n",
    "i = 1\n",
    "while i<=9:\n",
    "    j=1\n",
    "    while j<=i:\n",
    "        print(\"%d*%d=%-2d \"%(i,j,i*j),end='')\n",
    "        j+=1\n",
    "    print('\\n')\n",
    "    i+=1"
   ]
  },
  {
   "cell_type": "markdown",
   "metadata": {},
   "source": [
    "### for\n",
    "像while循环一样，for可以完成循环的功能。\n",
    "\n",
    "在Python中 for循环可以遍历任何序列的项目，如一个列表或者一个字符串等。\n",
    "\n",
    "```python\n",
    "    for 临时变量 in 列表或者字符串等:\n",
    "        循环满足条件时执行的代码\n",
    "```\n",
    "\n",
    "while、for循环中都有break和continue两个关键字：\n",
    "\n",
    " * break结束整个循环\n",
    "\n",
    " * continue结束当前循环，进行下次循环"
   ]
  },
  {
   "cell_type": "code",
   "execution_count": null,
   "metadata": {
    "collapsed": true
   },
   "outputs": [],
   "source": [
    "a = [1,2,3,4]\n",
    "for i in a:\n",
    "    print(i)"
   ]
  },
  {
   "cell_type": "code",
   "execution_count": null,
   "metadata": {
    "collapsed": true
   },
   "outputs": [],
   "source": [
    "# range是一个左闭右开的列表(python3是生成器)，range(5)指[0,1,2,3,4,5]\n",
    "# 如果想要1-10，就是range(1,11)\n",
    "for i in range(5):\n",
    "    print(i)"
   ]
  },
  {
   "cell_type": "code",
   "execution_count": null,
   "metadata": {
    "collapsed": true
   },
   "outputs": [],
   "source": [
    "for i in range(5):\n",
    "    if i == 3:\n",
    "        break\n",
    "    print(i)"
   ]
  },
  {
   "cell_type": "code",
   "execution_count": null,
   "metadata": {
    "collapsed": true
   },
   "outputs": [],
   "source": [
    "for i in range(5):\n",
    "    if i == 3:\n",
    "        continue\n",
    "    print(i)"
   ]
  },
  {
   "cell_type": "markdown",
   "metadata": {},
   "source": [
    "## 基础数据结构\n",
    "-------\n",
    "### 字符串\n",
    "字符串是 Python 中最常用的数据类型。我们可以使用引号('或\")来创建字符串。\n",
    "\n",
    "字符串的下标从0开始，+可以用来连接字符串，*可以用于重复字符串。\n",
    "\n",
    "字符串有许多内置可使用的方法，常用的有split、endswith、join等，可查看官方文档详细了解\n"
   ]
  },
  {
   "cell_type": "code",
   "execution_count": null,
   "metadata": {
    "collapsed": true
   },
   "outputs": [],
   "source": [
    "str = 'Hello World!'\n",
    "\n",
    "print(str)          # Prints complete string\n",
    "print(str[0])       # Prints first character of the string\n",
    "print(str * 2)      # Prints string two times\n",
    "print(str + \"TEST\") # Prints concatenated string\n",
    "\n",
    "# split以空格为依据切割，返回列表类型\n",
    "print(str.split(' ')) \n",
    "# 字符串是否以World!结尾\n",
    "print(str.endswith('World!')) \n",
    "\n",
    "list_ = ['hello','world']\n",
    "str_ = '-'\n",
    "# 使用'-'将list内容连接\n",
    "print(str_.join(list_))"
   ]
  },
  {
   "cell_type": "code",
   "execution_count": null,
   "metadata": {
    "collapsed": true
   },
   "outputs": [],
   "source": [
    "# 遍历字符串\n",
    "str_ = 'hello world'\n",
    "for i in str_:\n",
    "    print(i)"
   ]
  },
  {
   "cell_type": "markdown",
   "metadata": {},
   "source": [
    "### List\n",
    "\n",
    "列表是Python中最基本的数据结构。列表中的每个元素都分配一个数字 - 它的位置，或索引，第一个索引是0，第二个索引是1，依此类推\n",
    "\n",
    "list的常见构造方法有以下几种：\n",
    "* 一对空[]表示空列表: []\n",
    "* 使用[]内部用逗号分隔开: [a, b, c]\n",
    "* list comprehension: [x for x in iterable]\n",
    "* 使用list(): list(iterable)\n",
    "\n",
    "*比较常见的 list, tuple, dict, set都是 iterable 的，可以直接使用 for 进行遍历*\n",
    "\n",
    "列表有许多内置可使用的方法，常用的有append、pop、remove、sort等，可查看官方文档详细了解"
   ]
  },
  {
   "cell_type": "code",
   "execution_count": null,
   "metadata": {
    "collapsed": true
   },
   "outputs": [],
   "source": [
    "lst = [ 'abcd', 786 , 2.23, 'john', 70.2 ]\n",
    "\n",
    "print(lst)\n",
    "print(lst[2])\n",
    "\n",
    "# 向后添加元素\n",
    "lst.append('hello')\n",
    "print(lst)\n",
    "# 删除最后一个元素\n",
    "lst.pop()\n",
    "print(lst)\n",
    "# 删除内容为'abcd'的元素\n",
    "lst.remove('abcd')\n",
    "print(lst)\n",
    "\n",
    "list_ = [2,3,5,1,4,6]\n",
    "# 按数字大小进行排序\n",
    "list_.sort()\n",
    "print(list_)"
   ]
  },
  {
   "cell_type": "code",
   "execution_count": null,
   "metadata": {
    "collapsed": true
   },
   "outputs": [],
   "source": [
    "#列表的便利\n",
    "list_ = [1,2,3,4]\n",
    "for i in list_:\n",
    "    print(i)"
   ]
  },
  {
   "cell_type": "markdown",
   "metadata": {},
   "source": [
    "### 元组(tuple)\n",
    "元组与列表基本相同，区别是使用()而不是[]，而且元组是只读的。"
   ]
  },
  {
   "cell_type": "code",
   "execution_count": null,
   "metadata": {
    "collapsed": true
   },
   "outputs": [],
   "source": [
    "tp = ( 'abcd', 786 , 2.23, 'john', 70.2  )\n",
    "print(tp)\n",
    "print(tp[2])"
   ]
  },
  {
   "cell_type": "markdown",
   "metadata": {},
   "source": [
    "### 切片\n",
    "    \n",
    "    字符串和列表都存在切片操作，由于在unnicode的编码下，字符串可以看成是由字符组成的列表，所以我们统一讲解。"
   ]
  },
  {
   "cell_type": "code",
   "execution_count": null,
   "metadata": {
    "collapsed": true
   },
   "outputs": [],
   "source": [
    "a = \"abcdef\"\n",
    "b = ['a','b','c','d','e','f']\n",
    "\n",
    "#len方法可以计算字符串、列表的长度\n",
    "len_ = len(a)\n",
    "print(len_)\n",
    "\n",
    "# 完整格式\n",
    "print(a[0:6:1])\n",
    "print(b[0:6:1])\n",
    "# 简写格式\n",
    "print(a[1:4])\n",
    "print(b[1:4])\n",
    "# 设置步进,不写默认最前到最后\n",
    "print(a[::2])\n",
    "print(b[::2])\n",
    "# 逆步进(倒序)\n",
    "print(a[::-1])\n",
    "print(b[::-1])\n",
    "# 前五个2步进\n",
    "print(a[0:5:2])\n",
    "print(b[0:5:2])\n",
    "# 前3个后3个\n",
    "print(a[:-3])\n",
    "print(a[-3:])"
   ]
  },
  {
   "cell_type": "markdown",
   "metadata": {},
   "source": [
    "### 字典\n",
    "\n",
    "字典是另一种可变容器模型，且可存储任意类型对象。\n",
    "\n",
    "字典的每个键值(key=>value)对用冒号(:)分割，每个对之间用逗号(,)分割，整个字典包括在花括号({})中 ,格式如下所示：\n",
    "```python\n",
    "    d = {key1 : value1, key2 : value2 }\n",
    "```\n",
    "键必须是唯一的，但值则不必。\n",
    "\n",
    "值可以取任何数据类型，<font color=red>但键必须是不可变数据类型，如字符串，数字或元组。</font>\n",
    "\n",
    "一个简单的字典实例：\n",
    "```python\n",
    "    dict = {'Alice': '2341', 'Beth': '9102', 1: '3258'}\n",
    "```"
   ]
  },
  {
   "cell_type": "code",
   "execution_count": null,
   "metadata": {
    "collapsed": true
   },
   "outputs": [],
   "source": [
    "dict = {'Name': 'Runoob', 'Age': 7, 'Class': 'First'}\n",
    "\n",
    "# 添加元素\n",
    "dict['Address'] = 'beijing'\n",
    "print(dict)\n",
    "\n",
    "# 修改元素，直接用键值覆盖\n",
    "dict['Name'] = 'xiaotian'\n",
    "print(dict)\n",
    "\n",
    "# 删除字典元素\n",
    "del dict['Address']\n",
    "print(dict)"
   ]
  },
  {
   "cell_type": "code",
   "execution_count": null,
   "metadata": {
    "collapsed": true
   },
   "outputs": [],
   "source": [
    "# 字典的遍历\n",
    "dict_ = {'Name': 'Runoob', 'Age': 7, 'Class': 'First'}\n",
    "\n",
    "# 遍历keys(键)\n",
    "for i in dict_.keys():\n",
    "    print(i)\n",
    "\n",
    "print('---------------------------')\n",
    "# 遍历values(值)\n",
    "for i in dict_.values():\n",
    "    print(i)\n",
    "\n",
    "print('---------------------------')\n",
    "# 遍历items(键、值)\n",
    "for i in dict_.items():\n",
    "    print(i)\n",
    "\n",
    "for key,value in dict_.items():\n",
    "    print (key,end='-')\n",
    "    print (value)"
   ]
  },
  {
   "cell_type": "markdown",
   "metadata": {},
   "source": [
    "## 函数\n",
    "---"
   ]
  },
  {
   "cell_type": "markdown",
   "metadata": {},
   "source": [
    "### 定义函数\n",
    "\n",
    "在Python之中定义函数要遵循以下几点：\n",
    "\n",
    "* python中定义函数使用 **def** 关键字，后面接着函数名称和括号(),最后跟着冒号\n",
    "* 函数的参数应当写在括号之中，也可以在括号中定义参数\n",
    "* 函数中的 docstring 是可选的，可写可不写，建议写上\n",
    "* 函数中的代码块要进行缩进\n",
    "* return 可以用于返回函数返回值或者表达式，return后面什么都不写与 return None 或者不写return 等价"
   ]
  },
  {
   "cell_type": "code",
   "execution_count": null,
   "metadata": {
    "collapsed": true
   },
   "outputs": [],
   "source": [
    "def hello(name):\n",
    "    \"\"\"This function accepts a name and concatenate it with 'hello'.\n",
    "    Args:\n",
    "        name: str, name of one person\n",
    "    Returns:\n",
    "        hello_name: the concatenated string\n",
    "    \"\"\"\n",
    "    hello_name = 'hello ' + name\n",
    "    return hello_name"
   ]
  },
  {
   "cell_type": "markdown",
   "metadata": {},
   "source": [
    "### 调用函数\n",
    "对函数进行定义了以后，只要通过函数名称对函数进行调用即可"
   ]
  },
  {
   "cell_type": "code",
   "execution_count": null,
   "metadata": {
    "collapsed": true
   },
   "outputs": [],
   "source": [
    "t = hello('Jane')\n",
    "print(t)"
   ]
  },
  {
   "cell_type": "markdown",
   "metadata": {},
   "source": [
    "### 函数的参数\n",
    "调用函数的时候可以使用以下几种参数：\n",
    "* 必要(required)参数\n",
    "* 关键(keyword)字参数\n",
    "* 默认(default)参数\n",
    "* 变长(variable-length)参数"
   ]
  },
  {
   "cell_type": "markdown",
   "metadata": {},
   "source": [
    "必要参数是指必须按照函数定义的参数列表的定义，按照顺序传入，如`change_list`函数就必须传入`mylist`参数,如果没有按照要求进行传递参数，将会报错：\n",
    "```python\n",
    "def change_list(mylist):\n",
    "    mylist.append('test')\n",
    "```"
   ]
  },
  {
   "cell_type": "code",
   "execution_count": null,
   "metadata": {
    "collapsed": true
   },
   "outputs": [],
   "source": [
    "def change_list(mylist,str_):\n",
    "    mylist.append('test')\n",
    "    print(mylist)\n",
    "    print(str_)\n",
    "change_list([1,2,3],'sss')"
   ]
  },
  {
   "cell_type": "code",
   "execution_count": null,
   "metadata": {
    "collapsed": true
   },
   "outputs": [],
   "source": [
    "change_list()"
   ]
  },
  {
   "cell_type": "code",
   "execution_count": null,
   "metadata": {
    "collapsed": true
   },
   "outputs": [],
   "source": [
    "change_list('sss',[1,2,3])"
   ]
  },
  {
   "cell_type": "markdown",
   "metadata": {},
   "source": [
    "当使用关键字参数对函数进行调用的时候，要按照函数定义的参数名进行赋值，这样允许不按照函数定义的参数顺序进行赋值，因为Python解释器这是可以将参数与传入变量进行对应。"
   ]
  },
  {
   "cell_type": "code",
   "execution_count": null,
   "metadata": {
    "collapsed": true
   },
   "outputs": [],
   "source": [
    "def test(a, b):\n",
    "    print(a)\n",
    "    print(b)\n",
    "test(b=2, a=1)"
   ]
  },
  {
   "cell_type": "markdown",
   "metadata": {},
   "source": [
    "默认参数指的是当参数的值没有在调用时指定的话，函数将为参数赋值一个预先定义好的值，<font color='red'>默认参数的位置应当位于参数列表的最后</font>："
   ]
  },
  {
   "cell_type": "code",
   "execution_count": null,
   "metadata": {
    "collapsed": true
   },
   "outputs": [],
   "source": [
    "def test(a, b=5):\n",
    "    print(a)\n",
    "    print(b)\n",
    "test(1)\n",
    "test(1, 2)"
   ]
  },
  {
   "cell_type": "markdown",
   "metadata": {},
   "source": [
    "当函数需要处理的变量的数目不确定的时候可以使用变长参数，变长参数在函数定义的时候名字没有预先确定，在定义函数的时候在变量前面增加一个星号（*）表示这是一个变长变量："
   ]
  },
  {
   "cell_type": "code",
   "execution_count": null,
   "metadata": {
    "collapsed": true
   },
   "outputs": [],
   "source": [
    "# *args接收单个参数\n",
    "# **kwargs接收字典型键值对\n",
    "def printinfo(*args,**kwargs):\n",
    "    print(args)\n",
    "    print(kwargs)\n",
    "\n",
    "printinfo(1,'asdas',name='asd',age=12)"
   ]
  },
  {
   "cell_type": "markdown",
   "metadata": {},
   "source": [
    "### 全局变量与局部变量\n",
    "在函数体中定义的变量具有局部作用域，他们只能在定义他们的函数之内被访问；全局变量可以在程序内被所有的函数访问。"
   ]
  },
  {
   "cell_type": "code",
   "execution_count": null,
   "metadata": {
    "collapsed": true
   },
   "outputs": [],
   "source": [
    "# 如果在局部使用全局变量，不加global视为在局部新建一个变量，与原变量地址空间不同。\n",
    "a = 50\n",
    "def test():\n",
    "    a = 100\n",
    "    print(a)\n",
    "test()\n",
    "print(a)"
   ]
  },
  {
   "cell_type": "code",
   "execution_count": null,
   "metadata": {
    "collapsed": true
   },
   "outputs": [],
   "source": [
    "# 添加global，标记为全局变量\n",
    "a = 50\n",
    "def test():\n",
    "    global a\n",
    "    a = 100\n",
    "    print(a)\n",
    "test()\n",
    "print(a)"
   ]
  },
  {
   "cell_type": "markdown",
   "metadata": {},
   "source": [
    "### 参数的传递\n",
    "\n",
    "    python中参数的传递都是引用的传递，传递的是地址空间，也可以说传递的是变量所占的地址空间"
   ]
  },
  {
   "cell_type": "code",
   "execution_count": null,
   "metadata": {
    "collapsed": true
   },
   "outputs": [],
   "source": [
    "def change_list(mylist,str_):\n",
    "    mylist.append('test')\n",
    "    print('Inside function {}'.format(mylist))\n",
    "    # a指向传过来的str_的地址空间\n",
    "    a = str_\n",
    "    print(a)\n",
    "\n",
    "lst = [1, 2, 3]\n",
    "b = 'abc' \n",
    "change_list(lst,b)\n",
    "# 经过函数的处理，lst最后增加了一个元素\n",
    "# 经过函数的处理，a,b都指向'abc'的地址空间\n",
    "print(lst)"
   ]
  },
  {
   "cell_type": "markdown",
   "metadata": {},
   "source": [
    "### 匿名函数\n",
    "匿名函数的定义方法与前面讲的传统的使用`def`的方法是不同，使用`lambda`关键词定义匿名函数。\n",
    "* 匿名函数可以接收任意数目的参数，但是返回值只能是一个值或者表达式，他们不能包含命令或者多个表达式。\n",
    "* lambda 函数具有自己的命名空间，他们除了参数列表中的变量以及全局变量之外无法访问其他的变量。\n",
    "* lambda 函数无法直接被用来打印变量，lambda 函数需要一个表达式"
   ]
  },
  {
   "cell_type": "code",
   "execution_count": null,
   "metadata": {
    "collapsed": true
   },
   "outputs": [],
   "source": [
    "sm = lambda x, y: x + y\n",
    "\n",
    "res = sm(1, 2)\n",
    "print(res)"
   ]
  },
  {
   "cell_type": "markdown",
   "metadata": {},
   "source": [
    "## 文件操作\n",
    "-----\n"
   ]
  },
  {
   "cell_type": "markdown",
   "metadata": {},
   "source": [
    "#### open函数\n",
    "open函数被用来打开或者创建文件，它将会返回一个`file`对象。\n",
    "\n",
    "```python\n",
    "file object = open(file_name [, access_mode][, buffering][,encoding])\n",
    "\n",
    "```\n",
    "\n",
    "有几种常见的模式：\n",
    "* r 表示以只读方式打开 （默认模式）\n",
    "* rb 表示以二进制只读打开\n",
    "* r+ 以读写方式打开\n",
    "* rb+ 以二进制读写方式打开\n",
    "* w 以只写方式打开（如果已有文件，将会覆盖，如果没有将会创建）\n",
    "* wb 以二进制只写打开（如果已有文件，将会覆盖，如果没有将会创建）\n",
    "* w+ 以读和写的方式打开一个文件（如果已有文件，将会覆盖，如果没有将会创建）\n",
    "* wb+ 以二进制方式读和写的方式打开一个文件（如果已有文件，将会覆盖，如果没有将会创建）\n",
    "* a 表示 append，追加模式，如果文件存在的话，指针将位于文件的末尾，如果没有文件的话将会创建一个\n",
    "* ab 以二进制格式追加模式打开一个文件\n",
    "* a+ 以追加和读的方式打开一个文件\n",
    "* ab+ 以追加和读的方式打开二进制格式文件\n",
    "\n",
    "buffer是读写的缓冲区间，有可以选三种值: 0 表示不适用buffer，1 表示 buffer 文件中的一行，其余正整数表示buffer的字节数\n",
    "\n",
    "encoding是指明对文件编码，仅适用于文本文件。如果不明编码方式，默认是使用locale.getpreferredencoding()函数返回的编码方式。\n"
   ]
  },
  {
   "cell_type": "markdown",
   "metadata": {},
   "source": [
    "#### file对象的属性\n",
    "* file.close\n",
    "\n",
    "    返回文件是否关闭\n",
    "\n",
    "* file.mode\n",
    "\n",
    "    返回打开文件的模式\n",
    "\n",
    "* file.name\n",
    "\n",
    "    返回文件的名字"
   ]
  },
  {
   "cell_type": "code",
   "execution_count": null,
   "metadata": {
    "collapsed": true
   },
   "outputs": [],
   "source": [
    "fo = open(\"foo.txt\", \"wb\")\n",
    "print (\"Name of the file: \", fo.name)\n",
    "print (\"Closed or not : \", fo.closed)\n",
    "print (\"Opening mode : \", fo.mode)"
   ]
  },
  {
   "cell_type": "markdown",
   "metadata": {},
   "source": [
    "#### close() 方法\n",
    "file对象的close()方法用于将没有写入文件的信息写入文件以后关闭文件，<font color='red'>在打开文件以后要记得关闭文件。</font>"
   ]
  },
  {
   "cell_type": "code",
   "execution_count": null,
   "metadata": {
    "collapsed": true
   },
   "outputs": [],
   "source": [
    "fo.close()"
   ]
  },
  {
   "cell_type": "markdown",
   "metadata": {},
   "source": [
    "#### read() 和 write()\n",
    "\n",
    "file 对象可以使用 read() 对文件的内容进行读取，在使用read()对文件进行读取的时候会一次性的读取文件的全部内容。还可以使用readline()，每次读取文件的一行，readlines()则可以一次读取文件中的全部行，并且返回一个列表。\n",
    "\n",
    "write() 文件可以用于将内容写入文件，在写完文件之后一定要记得使用close()方法保证对于文件的更改已经写入了硬盘。"
   ]
  },
  {
   "cell_type": "code",
   "execution_count": null,
   "metadata": {
    "collapsed": true
   },
   "outputs": [],
   "source": [
    "fo = open(\"foo.txt\", \"w+\")\n",
    "fo.write(\"hello world\")\n",
    "fo.close()\n",
    "fo = open(\"foo.txt\", \"r\")\n",
    "t = fo.read()\n",
    "print(t)"
   ]
  },
  {
   "cell_type": "markdown",
   "metadata": {},
   "source": [
    "在对文件进行读写操作的时候，常用的一种方式是使用`with`，这样Python在对文件读写完成后会自动调用`close()`方法:"
   ]
  },
  {
   "cell_type": "code",
   "execution_count": null,
   "metadata": {
    "collapsed": true
   },
   "outputs": [],
   "source": [
    "with open(\"foo.txt\", \"w+\") as f:\n",
    "    for i in range(10):\n",
    "        f.write(str(i) + '\\n')\n",
    "with open(\"foo.txt\", \"r\") as f:\n",
    "    print(f.readlines())"
   ]
  },
  {
   "cell_type": "markdown",
   "metadata": {},
   "source": [
    "## 面向对象\n",
    "-----\n"
   ]
  },
  {
   "cell_type": "markdown",
   "metadata": {},
   "source": [
    "### 面向对象技术简介\n",
    "\n",
    "Python从设计之初就已经是一门面向对象的语言，正因为如此，在Python中创建一个类和对象是很容易的。\n",
    "\n",
    "* 类(Class): 用来描述具有相同的属性和方法的对象的集合。它定义了该集合中每个对象所共有的属性和方法。对象是类的实例。\n",
    "* 类变量：类变量在整个实例化的对象中是公用的。类变量定义在类中且在函数体之外。类变量通常不作为实例变量使用。\n",
    "* 实例: 创建一个类的实例，类的具体对象。(实例就是对象)\n",
    "* 实例变量：定义在方法中的变量，只作用于当前实例的类。\n",
    "* 方法：类中定义的函数。\n",
    "* 对象：通过类定义的数据结构实例。对象包括两个数据成员（类变量和实例变量）和方法。\n",
    "* 方法重写：如果从父类继承的方法不能满足子类的需求，可以对其进行改写，这个过程叫方法的覆盖（override），也称为方法的重写。\n",
    "* 继承：即一个派生类（derived class）继承基类（base class）的字段和方法。继承也允许把一个派生类的对象作为一个基类对象对待。例如，有这样一个设计：一个Dog类型的对象派生自Animal类，这是模拟\"是一个（is-a）\"关系（例图，Dog是一个Animal）。"
   ]
  },
  {
   "cell_type": "markdown",
   "metadata": {},
   "source": [
    "定义一个类，格式如下：\n",
    "```python\n",
    "    class 类名:\n",
    "    方法列表\n",
    "```"
   ]
  },
  {
   "cell_type": "code",
   "execution_count": null,
   "metadata": {
    "collapsed": true
   },
   "outputs": [],
   "source": [
    "# 定义一个Car类\n",
    "class Car:\n",
    "    # 移动\n",
    "    def move(self):\n",
    "        print('车在奔跑...')\n",
    "\n",
    "    # 鸣笛\n",
    "    def toot(self):\n",
    "        print(\"车在鸣笛...嘟嘟..\")"
   ]
  },
  {
   "cell_type": "markdown",
   "metadata": {},
   "source": [
    "创建对象的格式为:\n",
    "```python\n",
    "    对象名 = 类名()\n",
    "```"
   ]
  },
  {
   "cell_type": "code",
   "execution_count": null,
   "metadata": {
    "collapsed": true
   },
   "outputs": [],
   "source": [
    "# 创建对象demo:\n",
    "BMW = Car()\n",
    "BMW.color = '黑色'# 实例属性\n",
    "BMW.wheelNum = 4 #轮子数量 实例属性\n",
    "BMW.move() # 实例方法\n",
    "BMW.toot() # 实例方法\n",
    "Car.wheelNum = 4 # 类属型\n",
    "print(BMW.color)\n",
    "print(BMW.wheelNum)\n",
    "print(Car.wheelNum)"
   ]
  },
  {
   "cell_type": "markdown",
   "metadata": {},
   "source": [
    "继承，派生类的声明，与他们的父类类似，继承的基类列表跟在类名之后，如下所示：\n",
    "```python\n",
    "   class SubClassName (ParentClass1[, ParentClass2, ...]):\n",
    "   'Optional class documentation string'\n",
    "   class_suite\n",
    "```"
   ]
  },
  {
   "cell_type": "code",
   "execution_count": null,
   "metadata": {
    "collapsed": true
   },
   "outputs": [],
   "source": [
    "# DaZhong继承Car\n",
    "class DaZhong(Car):\n",
    "    # 悬浮\n",
    "    def xuanfu(self):\n",
    "        print('车在悬浮...')\n",
    "    \n",
    "    # Car类也有这个方法，注意他们不同，这里重写了方法\n",
    "    def toot(self):\n",
    "        print(\"车在鸣笛...滴滴..\")"
   ]
  },
  {
   "cell_type": "code",
   "execution_count": null,
   "metadata": {
    "collapsed": true
   },
   "outputs": [],
   "source": [
    "# 创建大众实例对象后，可以调用父类方法\n",
    "dz = DaZhong()\n",
    "dz.move() # 实例方法\n",
    "dz.toot() # 重新的实例方法\n",
    "dz.xuanfu() # 实例方法"
   ]
  },
  {
   "cell_type": "markdown",
   "metadata": {},
   "source": [
    "### 类的专有方法：\n",
    "* __init__ : 构造函数，在生成对象时调用\n",
    "* __del__ : 析构函数，释放对象时使用\n",
    "* __repr__ : 打印，转换\n",
    "* __call__: 函数调用"
   ]
  },
  {
   "cell_type": "code",
   "execution_count": null,
   "metadata": {
    "collapsed": true
   },
   "outputs": [],
   "source": [
    "# 定义一个Car类\n",
    "class Car:\n",
    "    def __init__(self, color, wheel):\n",
    "        self.color = color\n",
    "        self.wheelNum = wheel\n",
    "    # 移动\n",
    "    def move(self):\n",
    "        print('车在奔跑...')\n",
    "\n",
    "    # 鸣笛\n",
    "    def toot(self):\n",
    "        print(\"车在鸣笛...嘟嘟..\")\n",
    "    \n",
    "     \n",
    "    def __str__(self):\n",
    "        return 'Benz (%s, %d)' % (self.color, self.wheelNum)\n",
    "Benz = Car('red',4)\n",
    "print(Benz.color)\n",
    "print(Benz.wheelNum)\n",
    "print(Benz)"
   ]
  },
  {
   "cell_type": "markdown",
   "metadata": {},
   "source": [
    "## python进阶用法\n",
    "-----\n"
   ]
  },
  {
   "cell_type": "markdown",
   "metadata": {},
   "source": [
    "### 进程与线程\n",
    "    \n",
    "    进程是系统分配资源与调度的基本单位\n",
    "    线程是CPU调度和分派的基本单位"
   ]
  },
  {
   "cell_type": "markdown",
   "metadata": {},
   "source": [
    "### 模块的安装与导入\n",
    "\n",
    "\n",
    "    模块是一个包含定义的函数和变量的文件，其后缀名是.py。模块可以被别的程序引入，以使用该模块中的函数等功能。这也是使用 python 标准库的方法。\n",
    "    \n",
    "    在python命令行中，第三方模块的导入方法为:pip install XXXX\n",
    "    \n",
    "    在anaconda命令行中，第三方模块的导入方法为:conda install XXXX\n",
    "    \n",
    "    在程序中，模块的导入一般有两种方法：\n",
    "        * import XXXX\n",
    "        * from xxxx import xxxx"
   ]
  },
  {
   "cell_type": "code",
   "execution_count": null,
   "metadata": {
    "collapsed": true
   },
   "outputs": [],
   "source": [
    "# import 搜索路径\n",
    "import sys\n",
    "sys.path"
   ]
  },
  {
   "cell_type": "code",
   "execution_count": null,
   "metadata": {
    "collapsed": true
   },
   "outputs": [],
   "source": [
    "# 标准库的使用\n",
    "import time\n",
    "print(time.time())\n",
    "\n",
    "import random\n",
    "print(random.randint(0,10))"
   ]
  },
  {
   "cell_type": "markdown",
   "metadata": {},
   "source": [
    "### 生成器\n",
    "\n",
    "通过列表生成式，我们可以直接创建一个列表。但是，受到内存限制，列表容量肯定是有限的。而且，创建一个包含100万个元素的列表，不仅占用很大的存储空间，如果我们仅仅需要访问前面几个元素，那后面绝大多数元素占用的空间都白白浪费了。所以，如果列表元素可以按照某种算法推算出来，那我们是否可以在循环的过程中不断推算出后续的元素呢？这样就不必创建完整的list，从而节省大量的空间。\n",
    "\n",
    "在Python中，这种一边循环一边计算的机制，称为生成器generator。\n",
    "\n"
   ]
  },
  {
   "cell_type": "code",
   "execution_count": null,
   "metadata": {
    "collapsed": true
   },
   "outputs": [],
   "source": [
    "# 这是一个列表生成式\n",
    "L = [ x*2 for x in range(5)]\n",
    "\n",
    "# 最简单的生成器写法\n",
    "G = ( x*2 for x in range(5))\n",
    "print(type(L))\n",
    "print(type(G))\n",
    "\n",
    "print(next(G))\n",
    "print(next(G))\n",
    "print(next(G))"
   ]
  },
  {
   "cell_type": "markdown",
   "metadata": {},
   "source": [
    "<font color='red'>经常我们的生成的生成器不会使用next()，而是直接使用for循环遍历，而生成器的写法也就是将函数的return变成yield，我们后面的AI学习中可能遇到很大的数据量，因此生成器是我们必不可少的工具</font>"
   ]
  },
  {
   "cell_type": "code",
   "execution_count": null,
   "metadata": {
    "collapsed": true
   },
   "outputs": [],
   "source": [
    "# 通过生成器实现斐波那契数列\n",
    "def fib(times):\n",
    "   n = 0\n",
    "   a,b = 0,1\n",
    "   while n<times:\n",
    "       yield b\n",
    "       a,b = b,a+b\n",
    "       n+=1"
   ]
  },
  {
   "cell_type": "code",
   "execution_count": null,
   "metadata": {
    "collapsed": true
   },
   "outputs": [],
   "source": [
    "f = fib(10)\n",
    "print(next(f))\n",
    "print(next(f))\n",
    "print(next(f))\n",
    "print(next(f))"
   ]
  },
  {
   "cell_type": "markdown",
   "metadata": {},
   "source": [
    "### 迭代器\n",
    "迭代是访问集合元素的一种方式。迭代器是一个可以记住遍历的位置的对象。迭代器对象从集合的第一个元素开始访问，直到所有的元素被访问完结束。迭代器只能往前不会后退。\n",
    "    \n",
    "1、可迭代对象\n",
    "\n",
    "可以直接作用于 for 循环的数据类型有以下几种：\n",
    "   * 一类是集合数据类型，如 list 、 tuple 、 dict 、 set 、 str 等；\n",
    "\n",
    "   * 一类是 generator ，包括生成器和带 yield 的generator function。\n",
    "\n",
    "这些可以直接作用于 for 循环的对象统称为可迭代对象： Iterable \n",
    "<font color='red'>迭代器都是可迭代对象</font>\n",
    "\n",
    "2、迭代器\n",
    "\n",
    "可以被next()函数调用并不断返回下一个值的对象称为迭代器：Iterator。\n",
    "<font color='red'>生成器都是迭代器</font>\n",
    "\n",
    "3、iter()函数\n",
    "生成器都是 Iterator 对象，但 list 、 dict 、 str 虽然是 Iterable ，却不是 Iterator 。\n",
    "\n",
    "把 list 、 dict 、 str 等 Iterable 变成 Iterator 可以使用 iter() 函数："
   ]
  },
  {
   "cell_type": "code",
   "execution_count": null,
   "metadata": {
    "collapsed": true
   },
   "outputs": [],
   "source": [
    "# list 是可迭代对象\n",
    "a = [1,2,3,4]\n",
    "for i in a:\n",
    "    print(i)"
   ]
  },
  {
   "cell_type": "code",
   "execution_count": null,
   "metadata": {
    "collapsed": true
   },
   "outputs": [],
   "source": [
    "# inter(list)变为迭代器\n",
    "b = iter(a)\n",
    "print(next(b))\n",
    "print(next(b))\n",
    "print(next(b))\n",
    "print(next(b))"
   ]
  },
  {
   "cell_type": "markdown",
   "metadata": {},
   "source": [
    "### 装饰器\n",
    "\n",
    "装饰器是由python闭包系统实现的，本质上，就是一个返回函数的高阶函数\n",
    "\n",
    "我们将通过一个demo，简单的带大家了解\n"
   ]
  },
  {
   "cell_type": "code",
   "execution_count": null,
   "metadata": {
    "collapsed": true
   },
   "outputs": [],
   "source": [
    "from time import ctime\n",
    "\n",
    "def timefun(func):\n",
    "    def wrappedfunc(*args,**kwargs):\n",
    "        print(\"%s called at %s\"%(func.__name__, ctime()))\n",
    "        return func(*args,**kwargs)\n",
    "    return wrappedfunc\n",
    "\n",
    "@timefun\n",
    "def test(a,b):\n",
    "    print(a+b)\n",
    "\n",
    "test(1,2)"
   ]
  },
  {
   "cell_type": "code",
   "execution_count": null,
   "metadata": {
    "collapsed": true
   },
   "outputs": [],
   "source": [
    "# 通过装饰器验证登陆\n",
    "def login(func):\n",
    "    def wfunc(*args,**kwargs):\n",
    "        pop = input('输入编号')\n",
    "        if pop == '1':\n",
    "            print('欢迎登陆')\n",
    "            return func(*args,**kwargs)\n",
    "        else:\n",
    "            print('陌生访问')\n",
    "    return wfunc\n",
    "\n",
    "@login\n",
    "def test(a,b):\n",
    "    print(a+b)\n",
    "\n",
    "test(1,2)"
   ]
  },
  {
   "cell_type": "markdown",
   "metadata": {},
   "source": [
    "## 错误处理\n",
    "---\n",
    "在Python之中常用的用于处理异常错误的方法有两种：\n",
    "* 异常处理\n",
    "* 使用assert"
   ]
  },
  {
   "cell_type": "markdown",
   "metadata": {},
   "source": [
    "### 异常处理\n",
    "在python中对异常进行处理时经常使用以下结构：\n",
    "\n",
    "```python\n",
    "try:\n",
    "    pass\n",
    "except error0:\n",
    "    pass\n",
    "except error1:\n",
    "    pass\n",
    "finally:\n",
    "    pass\n",
    "```\n",
    "`try`后面跟着需要执行的代码块，`except`后面标注异常的类型，在出现对应的异常的时候执行对应代码块，无论程序是否正确执行`finally`后面接着的代码块都会在最后执行。Python 中内置的异常类型，参考[这个连接](https://docs.python.org/3/library/exceptions.html)。"
   ]
  },
  {
   "cell_type": "code",
   "execution_count": null,
   "metadata": {
    "collapsed": true
   },
   "outputs": [],
   "source": [
    "try:\n",
    "    with open('./test/test.txt', 'w+') as f:\n",
    "        f.write('hello world')\n",
    "except IOError:\n",
    "    print('No such file')\n",
    "finally:\n",
    "    print('finished')"
   ]
  },
  {
   "cell_type": "markdown",
   "metadata": {},
   "source": [
    "以上代码尝试以`w+`模式打开一个文件，如果出现IO错误的话就输出没有此文件，最后输出finished。"
   ]
  },
  {
   "cell_type": "markdown",
   "metadata": {},
   "source": [
    "### Assert 语句\n",
    "`assert`使用方法：\n",
    "```python\n",
    "assert Expression[, Expression]\n",
    "```\n",
    "assert 将会判断后面跟的表达式是否为真，如果为false的话将会抛出`AssertionError`异常，经常可以用于对变量类型，或者程序逻辑进行检查，比如我们写一个计算两个向量内积的程序："
   ]
  },
  {
   "cell_type": "code",
   "execution_count": null,
   "metadata": {
    "collapsed": true
   },
   "outputs": [],
   "source": [
    "def mul(x, y):\n",
    "    assert len(x) == len(y), \"size of 2 vectors should be same\"\n",
    "    t = 0\n",
    "    for i in range(len(x)):\n",
    "        t += x[i] * y[i]\n",
    "    return t"
   ]
  },
  {
   "cell_type": "code",
   "execution_count": null,
   "metadata": {
    "collapsed": true
   },
   "outputs": [],
   "source": [
    "mul([1,2,3,4], [5,6,7,8])"
   ]
  },
  {
   "cell_type": "code",
   "execution_count": null,
   "metadata": {
    "collapsed": true
   },
   "outputs": [],
   "source": [
    "mul([1,3,4], [2,3])"
   ]
  },
  {
   "cell_type": "markdown",
   "metadata": {},
   "source": [
    "## 参考资料\n",
    "---\n",
    "* [Tutorial Point](https://www.tutorialspoint.com/python)\n",
    "* [Python Wiki](https://wiki.python.org)\n",
    "* [廖雪峰Python教程](https://www.liaoxuefeng.com/wiki/0014316089557264a6b348958f449949df42a6d3a2e542c000)\n",
    "* 课下发送python电子书学习资料"
   ]
  }
 ],
 "metadata": {
  "kernelspec": {
   "display_name": "Python 3",
   "language": "python",
   "name": "python3"
  },
  "language_info": {
   "codemirror_mode": {
    "name": "ipython",
    "version": 3
   },
   "file_extension": ".py",
   "mimetype": "text/x-python",
   "name": "python",
   "nbconvert_exporter": "python",
   "pygments_lexer": "ipython3",
   "version": "3.6.4"
  }
 },
 "nbformat": 4,
 "nbformat_minor": 2
}
